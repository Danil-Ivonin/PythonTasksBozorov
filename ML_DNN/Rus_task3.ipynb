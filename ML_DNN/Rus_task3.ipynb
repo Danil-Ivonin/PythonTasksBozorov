{
 "cells": [
  {
   "cell_type": "code",
   "execution_count": 1,
   "metadata": {},
   "outputs": [],
   "source": [
    "import numpy as np\n",
    "import pandas as pd"
   ]
  },
  {
   "cell_type": "code",
   "execution_count": 2,
   "metadata": {},
   "outputs": [
    {
     "data": {
      "text/html": [
       "<div>\n",
       "<style scoped>\n",
       "    .dataframe tbody tr th:only-of-type {\n",
       "        vertical-align: middle;\n",
       "    }\n",
       "\n",
       "    .dataframe tbody tr th {\n",
       "        vertical-align: top;\n",
       "    }\n",
       "\n",
       "    .dataframe thead th {\n",
       "        text-align: right;\n",
       "    }\n",
       "</style>\n",
       "<table border=\"1\" class=\"dataframe\">\n",
       "  <thead>\n",
       "    <tr style=\"text-align: right;\">\n",
       "      <th></th>\n",
       "      <th>Unnamed: 0</th>\n",
       "      <th>game</th>\n",
       "      <th>link</th>\n",
       "      <th>release</th>\n",
       "      <th>peak_players</th>\n",
       "      <th>positive_reviews</th>\n",
       "      <th>negative_reviews</th>\n",
       "      <th>total_reviews</th>\n",
       "      <th>rating</th>\n",
       "    </tr>\n",
       "  </thead>\n",
       "  <tbody>\n",
       "    <tr>\n",
       "      <th>0</th>\n",
       "      <td>0</td>\n",
       "      <td>Pizza Tower</td>\n",
       "      <td>/app/2231450/</td>\n",
       "      <td>Jan 26 2023</td>\n",
       "      <td>4,529</td>\n",
       "      <td>19,807</td>\n",
       "      <td>227</td>\n",
       "      <td>227</td>\n",
       "      <td>96.39%</td>\n",
       "    </tr>\n",
       "    <tr>\n",
       "      <th>1</th>\n",
       "      <td>1</td>\n",
       "      <td>Resident Evil 4</td>\n",
       "      <td>/app/2050650/</td>\n",
       "      <td>Mar 24 2023</td>\n",
       "      <td>168,191</td>\n",
       "      <td>61,752</td>\n",
       "      <td>1,616</td>\n",
       "      <td>1,616</td>\n",
       "      <td>95.75%</td>\n",
       "    </tr>\n",
       "    <tr>\n",
       "      <th>2</th>\n",
       "      <td>2</td>\n",
       "      <td>The Murder of Sonic the Hedgehog</td>\n",
       "      <td>/app/2324650/</td>\n",
       "      <td>Mar 31 2023</td>\n",
       "      <td>15,543</td>\n",
       "      <td>12,643</td>\n",
       "      <td>213</td>\n",
       "      <td>213</td>\n",
       "      <td>95.54%</td>\n",
       "    </tr>\n",
       "    <tr>\n",
       "      <th>3</th>\n",
       "      <td>3</td>\n",
       "      <td>Pineapple on pizza</td>\n",
       "      <td>/app/2263010/</td>\n",
       "      <td>Mar 28 2023</td>\n",
       "      <td>1,415</td>\n",
       "      <td>11,717</td>\n",
       "      <td>209</td>\n",
       "      <td>209</td>\n",
       "      <td>95.39%</td>\n",
       "    </tr>\n",
       "    <tr>\n",
       "      <th>4</th>\n",
       "      <td>4</td>\n",
       "      <td>Hi-Fi RUSH</td>\n",
       "      <td>/app/1817230/</td>\n",
       "      <td>Jan 25 2023</td>\n",
       "      <td>6,132</td>\n",
       "      <td>14,152</td>\n",
       "      <td>324</td>\n",
       "      <td>324</td>\n",
       "      <td>95.09%</td>\n",
       "    </tr>\n",
       "  </tbody>\n",
       "</table>\n",
       "</div>"
      ],
      "text/plain": [
       "   Unnamed: 0                              game           link      release  \\\n",
       "0           0                       Pizza Tower  /app/2231450/  Jan 26 2023   \n",
       "1           1                   Resident Evil 4  /app/2050650/  Mar 24 2023   \n",
       "2           2  The Murder of Sonic the Hedgehog  /app/2324650/  Mar 31 2023   \n",
       "3           3                Pineapple on pizza  /app/2263010/  Mar 28 2023   \n",
       "4           4                        Hi-Fi RUSH  /app/1817230/  Jan 25 2023   \n",
       "\n",
       "  peak_players positive_reviews negative_reviews total_reviews  rating  \n",
       "0        4,529           19,807              227           227  96.39%  \n",
       "1      168,191           61,752            1,616         1,616  95.75%  \n",
       "2       15,543           12,643              213           213  95.54%  \n",
       "3        1,415           11,717              209           209  95.39%  \n",
       "4        6,132           14,152              324           324  95.09%  "
      ]
     },
     "execution_count": 2,
     "metadata": {},
     "output_type": "execute_result"
    }
   ],
   "source": [
    "data = pd.read_csv('Datasets/Games/games-release-ALL.csv')\n",
    "data.head()"
   ]
  },
  {
   "cell_type": "code",
   "execution_count": 3,
   "metadata": {},
   "outputs": [
    {
     "data": {
      "text/plain": [
       "Unnamed: 0          0\n",
       "game                0\n",
       "link                0\n",
       "release             0\n",
       "peak_players        0\n",
       "positive_reviews    0\n",
       "negative_reviews    0\n",
       "total_reviews       0\n",
       "rating              0\n",
       "dtype: int64"
      ]
     },
     "execution_count": 3,
     "metadata": {},
     "output_type": "execute_result"
    }
   ],
   "source": [
    "data.isna().sum()"
   ]
  },
  {
   "cell_type": "code",
   "execution_count": 4,
   "metadata": {},
   "outputs": [
    {
     "name": "stdout",
     "output_type": "stream",
     "text": [
      "<class 'pandas.core.frame.DataFrame'>\n",
      "RangeIndex: 66427 entries, 0 to 66426\n",
      "Data columns (total 9 columns):\n",
      " #   Column            Non-Null Count  Dtype \n",
      "---  ------            --------------  ----- \n",
      " 0   Unnamed: 0        66427 non-null  int64 \n",
      " 1   game              66427 non-null  object\n",
      " 2   link              66427 non-null  object\n",
      " 3   release           66427 non-null  object\n",
      " 4   peak_players      66427 non-null  object\n",
      " 5   positive_reviews  66427 non-null  object\n",
      " 6   negative_reviews  66427 non-null  object\n",
      " 7   total_reviews     66427 non-null  object\n",
      " 8   rating            66427 non-null  object\n",
      "dtypes: int64(1), object(8)\n",
      "memory usage: 4.6+ MB\n"
     ]
    }
   ],
   "source": [
    "data.info()"
   ]
  },
  {
   "cell_type": "code",
   "execution_count": 5,
   "metadata": {},
   "outputs": [
    {
     "data": {
      "text/html": [
       "<div>\n",
       "<style scoped>\n",
       "    .dataframe tbody tr th:only-of-type {\n",
       "        vertical-align: middle;\n",
       "    }\n",
       "\n",
       "    .dataframe tbody tr th {\n",
       "        vertical-align: top;\n",
       "    }\n",
       "\n",
       "    .dataframe thead th {\n",
       "        text-align: right;\n",
       "    }\n",
       "</style>\n",
       "<table border=\"1\" class=\"dataframe\">\n",
       "  <thead>\n",
       "    <tr style=\"text-align: right;\">\n",
       "      <th></th>\n",
       "      <th>game</th>\n",
       "      <th>link</th>\n",
       "      <th>release</th>\n",
       "      <th>peak_players</th>\n",
       "      <th>positive_reviews</th>\n",
       "      <th>negative_reviews</th>\n",
       "      <th>total_reviews</th>\n",
       "      <th>rating</th>\n",
       "    </tr>\n",
       "  </thead>\n",
       "  <tbody>\n",
       "    <tr>\n",
       "      <th>0</th>\n",
       "      <td>Pizza Tower</td>\n",
       "      <td>/app/2231450/</td>\n",
       "      <td>Jan 26 2023</td>\n",
       "      <td>4,529</td>\n",
       "      <td>19,807</td>\n",
       "      <td>227</td>\n",
       "      <td>227</td>\n",
       "      <td>96.39%</td>\n",
       "    </tr>\n",
       "    <tr>\n",
       "      <th>1</th>\n",
       "      <td>Resident Evil 4</td>\n",
       "      <td>/app/2050650/</td>\n",
       "      <td>Mar 24 2023</td>\n",
       "      <td>168,191</td>\n",
       "      <td>61,752</td>\n",
       "      <td>1,616</td>\n",
       "      <td>1,616</td>\n",
       "      <td>95.75%</td>\n",
       "    </tr>\n",
       "    <tr>\n",
       "      <th>2</th>\n",
       "      <td>The Murder of Sonic the Hedgehog</td>\n",
       "      <td>/app/2324650/</td>\n",
       "      <td>Mar 31 2023</td>\n",
       "      <td>15,543</td>\n",
       "      <td>12,643</td>\n",
       "      <td>213</td>\n",
       "      <td>213</td>\n",
       "      <td>95.54%</td>\n",
       "    </tr>\n",
       "    <tr>\n",
       "      <th>3</th>\n",
       "      <td>Pineapple on pizza</td>\n",
       "      <td>/app/2263010/</td>\n",
       "      <td>Mar 28 2023</td>\n",
       "      <td>1,415</td>\n",
       "      <td>11,717</td>\n",
       "      <td>209</td>\n",
       "      <td>209</td>\n",
       "      <td>95.39%</td>\n",
       "    </tr>\n",
       "    <tr>\n",
       "      <th>4</th>\n",
       "      <td>Hi-Fi RUSH</td>\n",
       "      <td>/app/1817230/</td>\n",
       "      <td>Jan 25 2023</td>\n",
       "      <td>6,132</td>\n",
       "      <td>14,152</td>\n",
       "      <td>324</td>\n",
       "      <td>324</td>\n",
       "      <td>95.09%</td>\n",
       "    </tr>\n",
       "  </tbody>\n",
       "</table>\n",
       "</div>"
      ],
      "text/plain": [
       "                               game           link      release peak_players  \\\n",
       "0                       Pizza Tower  /app/2231450/  Jan 26 2023        4,529   \n",
       "1                   Resident Evil 4  /app/2050650/  Mar 24 2023      168,191   \n",
       "2  The Murder of Sonic the Hedgehog  /app/2324650/  Mar 31 2023       15,543   \n",
       "3                Pineapple on pizza  /app/2263010/  Mar 28 2023        1,415   \n",
       "4                        Hi-Fi RUSH  /app/1817230/  Jan 25 2023        6,132   \n",
       "\n",
       "  positive_reviews negative_reviews total_reviews  rating  \n",
       "0           19,807              227           227  96.39%  \n",
       "1           61,752            1,616         1,616  95.75%  \n",
       "2           12,643              213           213  95.54%  \n",
       "3           11,717              209           209  95.39%  \n",
       "4           14,152              324           324  95.09%  "
      ]
     },
     "execution_count": 5,
     "metadata": {},
     "output_type": "execute_result"
    }
   ],
   "source": [
    "data = data.drop('Unnamed: 0', axis=1)\n",
    "data.head()"
   ]
  },
  {
   "cell_type": "code",
   "execution_count": 6,
   "metadata": {},
   "outputs": [
    {
     "name": "stdout",
     "output_type": "stream",
     "text": [
      "<class 'pandas.core.frame.DataFrame'>\n",
      "RangeIndex: 20000 entries, 0 to 19999\n",
      "Data columns (total 8 columns):\n",
      " #   Column            Non-Null Count  Dtype \n",
      "---  ------            --------------  ----- \n",
      " 0   game              20000 non-null  object\n",
      " 1   link              20000 non-null  object\n",
      " 2   release           20000 non-null  object\n",
      " 3   peak_players      20000 non-null  object\n",
      " 4   positive_reviews  20000 non-null  object\n",
      " 5   negative_reviews  20000 non-null  object\n",
      " 6   total_reviews     20000 non-null  object\n",
      " 7   rating            20000 non-null  object\n",
      "dtypes: object(8)\n",
      "memory usage: 1.2+ MB\n"
     ]
    }
   ],
   "source": [
    "data = data[:20000]\n",
    "data.info()"
   ]
  },
  {
   "cell_type": "code",
   "execution_count": 7,
   "metadata": {},
   "outputs": [
    {
     "data": {
      "text/html": [
       "<div>\n",
       "<style scoped>\n",
       "    .dataframe tbody tr th:only-of-type {\n",
       "        vertical-align: middle;\n",
       "    }\n",
       "\n",
       "    .dataframe tbody tr th {\n",
       "        vertical-align: top;\n",
       "    }\n",
       "\n",
       "    .dataframe thead th {\n",
       "        text-align: right;\n",
       "    }\n",
       "</style>\n",
       "<table border=\"1\" class=\"dataframe\">\n",
       "  <thead>\n",
       "    <tr style=\"text-align: right;\">\n",
       "      <th></th>\n",
       "      <th>game</th>\n",
       "      <th>link</th>\n",
       "      <th>release</th>\n",
       "      <th>peak_players</th>\n",
       "      <th>positive_reviews</th>\n",
       "      <th>negative_reviews</th>\n",
       "      <th>total_reviews</th>\n",
       "      <th>rating</th>\n",
       "    </tr>\n",
       "  </thead>\n",
       "  <tbody>\n",
       "    <tr>\n",
       "      <th>0</th>\n",
       "      <td>Pizza Tower</td>\n",
       "      <td>/app/2231450/</td>\n",
       "      <td>Jan 26 2023</td>\n",
       "      <td>4529</td>\n",
       "      <td>19807</td>\n",
       "      <td>227</td>\n",
       "      <td>227</td>\n",
       "      <td>96.39%</td>\n",
       "    </tr>\n",
       "    <tr>\n",
       "      <th>1</th>\n",
       "      <td>Resident Evil 4</td>\n",
       "      <td>/app/2050650/</td>\n",
       "      <td>Mar 24 2023</td>\n",
       "      <td>168191</td>\n",
       "      <td>61752</td>\n",
       "      <td>1616</td>\n",
       "      <td>1,616</td>\n",
       "      <td>95.75%</td>\n",
       "    </tr>\n",
       "    <tr>\n",
       "      <th>2</th>\n",
       "      <td>The Murder of Sonic the Hedgehog</td>\n",
       "      <td>/app/2324650/</td>\n",
       "      <td>Mar 31 2023</td>\n",
       "      <td>15543</td>\n",
       "      <td>12643</td>\n",
       "      <td>213</td>\n",
       "      <td>213</td>\n",
       "      <td>95.54%</td>\n",
       "    </tr>\n",
       "    <tr>\n",
       "      <th>3</th>\n",
       "      <td>Pineapple on pizza</td>\n",
       "      <td>/app/2263010/</td>\n",
       "      <td>Mar 28 2023</td>\n",
       "      <td>1415</td>\n",
       "      <td>11717</td>\n",
       "      <td>209</td>\n",
       "      <td>209</td>\n",
       "      <td>95.39%</td>\n",
       "    </tr>\n",
       "    <tr>\n",
       "      <th>4</th>\n",
       "      <td>Hi-Fi RUSH</td>\n",
       "      <td>/app/1817230/</td>\n",
       "      <td>Jan 25 2023</td>\n",
       "      <td>6132</td>\n",
       "      <td>14152</td>\n",
       "      <td>324</td>\n",
       "      <td>324</td>\n",
       "      <td>95.09%</td>\n",
       "    </tr>\n",
       "  </tbody>\n",
       "</table>\n",
       "</div>"
      ],
      "text/plain": [
       "                               game           link      release  peak_players  \\\n",
       "0                       Pizza Tower  /app/2231450/  Jan 26 2023          4529   \n",
       "1                   Resident Evil 4  /app/2050650/  Mar 24 2023        168191   \n",
       "2  The Murder of Sonic the Hedgehog  /app/2324650/  Mar 31 2023         15543   \n",
       "3                Pineapple on pizza  /app/2263010/  Mar 28 2023          1415   \n",
       "4                        Hi-Fi RUSH  /app/1817230/  Jan 25 2023          6132   \n",
       "\n",
       "   positive_reviews  negative_reviews total_reviews  rating  \n",
       "0             19807               227           227  96.39%  \n",
       "1             61752              1616         1,616  95.75%  \n",
       "2             12643               213           213  95.54%  \n",
       "3             11717               209           209  95.39%  \n",
       "4             14152               324           324  95.09%  "
      ]
     },
     "execution_count": 7,
     "metadata": {},
     "output_type": "execute_result"
    }
   ],
   "source": [
    "columns_with_comma = ['peak_players', 'positive_reviews', 'negative_reviews']\n",
    "\n",
    "data[columns_with_comma] = data[columns_with_comma].replace({',': ''}, regex=True)\n",
    "# Convert the columns to numeric (optional, if needed)\n",
    "data[columns_with_comma] = data[columns_with_comma].apply(pd.to_numeric, errors='ignore')\n",
    "data.head()"
   ]
  },
  {
   "cell_type": "code",
   "execution_count": 8,
   "metadata": {},
   "outputs": [
    {
     "data": {
      "text/html": [
       "<div>\n",
       "<style scoped>\n",
       "    .dataframe tbody tr th:only-of-type {\n",
       "        vertical-align: middle;\n",
       "    }\n",
       "\n",
       "    .dataframe tbody tr th {\n",
       "        vertical-align: top;\n",
       "    }\n",
       "\n",
       "    .dataframe thead th {\n",
       "        text-align: right;\n",
       "    }\n",
       "</style>\n",
       "<table border=\"1\" class=\"dataframe\">\n",
       "  <thead>\n",
       "    <tr style=\"text-align: right;\">\n",
       "      <th></th>\n",
       "      <th>game</th>\n",
       "      <th>link</th>\n",
       "      <th>release</th>\n",
       "      <th>peak_players</th>\n",
       "      <th>positive_reviews</th>\n",
       "      <th>negative_reviews</th>\n",
       "      <th>total_reviews</th>\n",
       "      <th>rating</th>\n",
       "    </tr>\n",
       "  </thead>\n",
       "  <tbody>\n",
       "    <tr>\n",
       "      <th>0</th>\n",
       "      <td>Pizza Tower</td>\n",
       "      <td>/app/2231450/</td>\n",
       "      <td>Jan 26 2023</td>\n",
       "      <td>4529</td>\n",
       "      <td>19807</td>\n",
       "      <td>227</td>\n",
       "      <td>20034</td>\n",
       "      <td>96.39%</td>\n",
       "    </tr>\n",
       "    <tr>\n",
       "      <th>1</th>\n",
       "      <td>Resident Evil 4</td>\n",
       "      <td>/app/2050650/</td>\n",
       "      <td>Mar 24 2023</td>\n",
       "      <td>168191</td>\n",
       "      <td>61752</td>\n",
       "      <td>1616</td>\n",
       "      <td>63368</td>\n",
       "      <td>95.75%</td>\n",
       "    </tr>\n",
       "    <tr>\n",
       "      <th>2</th>\n",
       "      <td>The Murder of Sonic the Hedgehog</td>\n",
       "      <td>/app/2324650/</td>\n",
       "      <td>Mar 31 2023</td>\n",
       "      <td>15543</td>\n",
       "      <td>12643</td>\n",
       "      <td>213</td>\n",
       "      <td>12856</td>\n",
       "      <td>95.54%</td>\n",
       "    </tr>\n",
       "    <tr>\n",
       "      <th>3</th>\n",
       "      <td>Pineapple on pizza</td>\n",
       "      <td>/app/2263010/</td>\n",
       "      <td>Mar 28 2023</td>\n",
       "      <td>1415</td>\n",
       "      <td>11717</td>\n",
       "      <td>209</td>\n",
       "      <td>11926</td>\n",
       "      <td>95.39%</td>\n",
       "    </tr>\n",
       "    <tr>\n",
       "      <th>4</th>\n",
       "      <td>Hi-Fi RUSH</td>\n",
       "      <td>/app/1817230/</td>\n",
       "      <td>Jan 25 2023</td>\n",
       "      <td>6132</td>\n",
       "      <td>14152</td>\n",
       "      <td>324</td>\n",
       "      <td>14476</td>\n",
       "      <td>95.09%</td>\n",
       "    </tr>\n",
       "  </tbody>\n",
       "</table>\n",
       "</div>"
      ],
      "text/plain": [
       "                               game           link      release  peak_players  \\\n",
       "0                       Pizza Tower  /app/2231450/  Jan 26 2023          4529   \n",
       "1                   Resident Evil 4  /app/2050650/  Mar 24 2023        168191   \n",
       "2  The Murder of Sonic the Hedgehog  /app/2324650/  Mar 31 2023         15543   \n",
       "3                Pineapple on pizza  /app/2263010/  Mar 28 2023          1415   \n",
       "4                        Hi-Fi RUSH  /app/1817230/  Jan 25 2023          6132   \n",
       "\n",
       "   positive_reviews  negative_reviews  total_reviews  rating  \n",
       "0             19807               227          20034  96.39%  \n",
       "1             61752              1616          63368  95.75%  \n",
       "2             12643               213          12856  95.54%  \n",
       "3             11717               209          11926  95.39%  \n",
       "4             14152               324          14476  95.09%  "
      ]
     },
     "execution_count": 8,
     "metadata": {},
     "output_type": "execute_result"
    }
   ],
   "source": [
    "data['total_reviews'] = data['positive_reviews'] + data['negative_reviews']\n",
    "data.head()"
   ]
  },
  {
   "cell_type": "code",
   "execution_count": 9,
   "metadata": {},
   "outputs": [
    {
     "data": {
      "text/html": [
       "<div>\n",
       "<style scoped>\n",
       "    .dataframe tbody tr th:only-of-type {\n",
       "        vertical-align: middle;\n",
       "    }\n",
       "\n",
       "    .dataframe tbody tr th {\n",
       "        vertical-align: top;\n",
       "    }\n",
       "\n",
       "    .dataframe thead th {\n",
       "        text-align: right;\n",
       "    }\n",
       "</style>\n",
       "<table border=\"1\" class=\"dataframe\">\n",
       "  <thead>\n",
       "    <tr style=\"text-align: right;\">\n",
       "      <th></th>\n",
       "      <th>release</th>\n",
       "      <th>peak_players</th>\n",
       "      <th>positive_reviews</th>\n",
       "      <th>negative_reviews</th>\n",
       "      <th>total_reviews</th>\n",
       "      <th>rating</th>\n",
       "    </tr>\n",
       "  </thead>\n",
       "  <tbody>\n",
       "    <tr>\n",
       "      <th>0</th>\n",
       "      <td>Jan 26 2023</td>\n",
       "      <td>4529</td>\n",
       "      <td>19807</td>\n",
       "      <td>227</td>\n",
       "      <td>20034</td>\n",
       "      <td>96.39%</td>\n",
       "    </tr>\n",
       "    <tr>\n",
       "      <th>1</th>\n",
       "      <td>Mar 24 2023</td>\n",
       "      <td>168191</td>\n",
       "      <td>61752</td>\n",
       "      <td>1616</td>\n",
       "      <td>63368</td>\n",
       "      <td>95.75%</td>\n",
       "    </tr>\n",
       "    <tr>\n",
       "      <th>2</th>\n",
       "      <td>Mar 31 2023</td>\n",
       "      <td>15543</td>\n",
       "      <td>12643</td>\n",
       "      <td>213</td>\n",
       "      <td>12856</td>\n",
       "      <td>95.54%</td>\n",
       "    </tr>\n",
       "    <tr>\n",
       "      <th>3</th>\n",
       "      <td>Mar 28 2023</td>\n",
       "      <td>1415</td>\n",
       "      <td>11717</td>\n",
       "      <td>209</td>\n",
       "      <td>11926</td>\n",
       "      <td>95.39%</td>\n",
       "    </tr>\n",
       "    <tr>\n",
       "      <th>4</th>\n",
       "      <td>Jan 25 2023</td>\n",
       "      <td>6132</td>\n",
       "      <td>14152</td>\n",
       "      <td>324</td>\n",
       "      <td>14476</td>\n",
       "      <td>95.09%</td>\n",
       "    </tr>\n",
       "  </tbody>\n",
       "</table>\n",
       "</div>"
      ],
      "text/plain": [
       "       release  peak_players  positive_reviews  negative_reviews  \\\n",
       "0  Jan 26 2023          4529             19807               227   \n",
       "1  Mar 24 2023        168191             61752              1616   \n",
       "2  Mar 31 2023         15543             12643               213   \n",
       "3  Mar 28 2023          1415             11717               209   \n",
       "4  Jan 25 2023          6132             14152               324   \n",
       "\n",
       "   total_reviews  rating  \n",
       "0          20034  96.39%  \n",
       "1          63368  95.75%  \n",
       "2          12856  95.54%  \n",
       "3          11926  95.39%  \n",
       "4          14476  95.09%  "
      ]
     },
     "execution_count": 9,
     "metadata": {},
     "output_type": "execute_result"
    }
   ],
   "source": [
    "# Drop name and link to the game\n",
    "data = data.drop(['game', 'link'], axis=1)\n",
    "data.head()"
   ]
  },
  {
   "cell_type": "code",
   "execution_count": 10,
   "metadata": {},
   "outputs": [
    {
     "data": {
      "text/html": [
       "<div>\n",
       "<style scoped>\n",
       "    .dataframe tbody tr th:only-of-type {\n",
       "        vertical-align: middle;\n",
       "    }\n",
       "\n",
       "    .dataframe tbody tr th {\n",
       "        vertical-align: top;\n",
       "    }\n",
       "\n",
       "    .dataframe thead th {\n",
       "        text-align: right;\n",
       "    }\n",
       "</style>\n",
       "<table border=\"1\" class=\"dataframe\">\n",
       "  <thead>\n",
       "    <tr style=\"text-align: right;\">\n",
       "      <th></th>\n",
       "      <th>peak_players</th>\n",
       "      <th>positive_reviews</th>\n",
       "      <th>negative_reviews</th>\n",
       "      <th>total_reviews</th>\n",
       "      <th>rating</th>\n",
       "      <th>release_year</th>\n",
       "      <th>release_month</th>\n",
       "      <th>release_day</th>\n",
       "    </tr>\n",
       "  </thead>\n",
       "  <tbody>\n",
       "    <tr>\n",
       "      <th>0</th>\n",
       "      <td>4529</td>\n",
       "      <td>19807</td>\n",
       "      <td>227</td>\n",
       "      <td>20034</td>\n",
       "      <td>96.39%</td>\n",
       "      <td>2023</td>\n",
       "      <td>1</td>\n",
       "      <td>26</td>\n",
       "    </tr>\n",
       "    <tr>\n",
       "      <th>1</th>\n",
       "      <td>168191</td>\n",
       "      <td>61752</td>\n",
       "      <td>1616</td>\n",
       "      <td>63368</td>\n",
       "      <td>95.75%</td>\n",
       "      <td>2023</td>\n",
       "      <td>3</td>\n",
       "      <td>24</td>\n",
       "    </tr>\n",
       "    <tr>\n",
       "      <th>2</th>\n",
       "      <td>15543</td>\n",
       "      <td>12643</td>\n",
       "      <td>213</td>\n",
       "      <td>12856</td>\n",
       "      <td>95.54%</td>\n",
       "      <td>2023</td>\n",
       "      <td>3</td>\n",
       "      <td>31</td>\n",
       "    </tr>\n",
       "    <tr>\n",
       "      <th>3</th>\n",
       "      <td>1415</td>\n",
       "      <td>11717</td>\n",
       "      <td>209</td>\n",
       "      <td>11926</td>\n",
       "      <td>95.39%</td>\n",
       "      <td>2023</td>\n",
       "      <td>3</td>\n",
       "      <td>28</td>\n",
       "    </tr>\n",
       "    <tr>\n",
       "      <th>4</th>\n",
       "      <td>6132</td>\n",
       "      <td>14152</td>\n",
       "      <td>324</td>\n",
       "      <td>14476</td>\n",
       "      <td>95.09%</td>\n",
       "      <td>2023</td>\n",
       "      <td>1</td>\n",
       "      <td>25</td>\n",
       "    </tr>\n",
       "  </tbody>\n",
       "</table>\n",
       "</div>"
      ],
      "text/plain": [
       "   peak_players  positive_reviews  negative_reviews  total_reviews  rating  \\\n",
       "0          4529             19807               227          20034  96.39%   \n",
       "1        168191             61752              1616          63368  95.75%   \n",
       "2         15543             12643               213          12856  95.54%   \n",
       "3          1415             11717               209          11926  95.39%   \n",
       "4          6132             14152               324          14476  95.09%   \n",
       "\n",
       "   release_year  release_month  release_day  \n",
       "0          2023              1           26  \n",
       "1          2023              3           24  \n",
       "2          2023              3           31  \n",
       "3          2023              3           28  \n",
       "4          2023              1           25  "
      ]
     },
     "execution_count": 10,
     "metadata": {},
     "output_type": "execute_result"
    }
   ],
   "source": [
    "# Convert date\n",
    "data['release'] = pd.to_datetime(data['release'])\n",
    "data['release_year'] = data['release'].apply(lambda x: x.year)\n",
    "data['release_month'] = data['release'].apply(lambda x: x.month)\n",
    "data['release_day'] = data['release'].apply(lambda x: x.day)\n",
    "data = data.drop('release', axis=1)\n",
    "data.head()"
   ]
  },
  {
   "cell_type": "code",
   "execution_count": 11,
   "metadata": {},
   "outputs": [
    {
     "data": {
      "text/html": [
       "<div>\n",
       "<style scoped>\n",
       "    .dataframe tbody tr th:only-of-type {\n",
       "        vertical-align: middle;\n",
       "    }\n",
       "\n",
       "    .dataframe tbody tr th {\n",
       "        vertical-align: top;\n",
       "    }\n",
       "\n",
       "    .dataframe thead th {\n",
       "        text-align: right;\n",
       "    }\n",
       "</style>\n",
       "<table border=\"1\" class=\"dataframe\">\n",
       "  <thead>\n",
       "    <tr style=\"text-align: right;\">\n",
       "      <th></th>\n",
       "      <th>peak_players</th>\n",
       "      <th>positive_reviews</th>\n",
       "      <th>negative_reviews</th>\n",
       "      <th>total_reviews</th>\n",
       "      <th>rating</th>\n",
       "      <th>release_year</th>\n",
       "      <th>release_month</th>\n",
       "      <th>release_day</th>\n",
       "    </tr>\n",
       "  </thead>\n",
       "  <tbody>\n",
       "    <tr>\n",
       "      <th>0</th>\n",
       "      <td>4529</td>\n",
       "      <td>19807</td>\n",
       "      <td>227</td>\n",
       "      <td>20034</td>\n",
       "      <td>96.39</td>\n",
       "      <td>2023</td>\n",
       "      <td>1</td>\n",
       "      <td>26</td>\n",
       "    </tr>\n",
       "    <tr>\n",
       "      <th>1</th>\n",
       "      <td>168191</td>\n",
       "      <td>61752</td>\n",
       "      <td>1616</td>\n",
       "      <td>63368</td>\n",
       "      <td>95.75</td>\n",
       "      <td>2023</td>\n",
       "      <td>3</td>\n",
       "      <td>24</td>\n",
       "    </tr>\n",
       "    <tr>\n",
       "      <th>2</th>\n",
       "      <td>15543</td>\n",
       "      <td>12643</td>\n",
       "      <td>213</td>\n",
       "      <td>12856</td>\n",
       "      <td>95.54</td>\n",
       "      <td>2023</td>\n",
       "      <td>3</td>\n",
       "      <td>31</td>\n",
       "    </tr>\n",
       "    <tr>\n",
       "      <th>3</th>\n",
       "      <td>1415</td>\n",
       "      <td>11717</td>\n",
       "      <td>209</td>\n",
       "      <td>11926</td>\n",
       "      <td>95.39</td>\n",
       "      <td>2023</td>\n",
       "      <td>3</td>\n",
       "      <td>28</td>\n",
       "    </tr>\n",
       "    <tr>\n",
       "      <th>4</th>\n",
       "      <td>6132</td>\n",
       "      <td>14152</td>\n",
       "      <td>324</td>\n",
       "      <td>14476</td>\n",
       "      <td>95.09</td>\n",
       "      <td>2023</td>\n",
       "      <td>1</td>\n",
       "      <td>25</td>\n",
       "    </tr>\n",
       "  </tbody>\n",
       "</table>\n",
       "</div>"
      ],
      "text/plain": [
       "   peak_players  positive_reviews  negative_reviews  total_reviews  rating  \\\n",
       "0          4529             19807               227          20034   96.39   \n",
       "1        168191             61752              1616          63368   95.75   \n",
       "2         15543             12643               213          12856   95.54   \n",
       "3          1415             11717               209          11926   95.39   \n",
       "4          6132             14152               324          14476   95.09   \n",
       "\n",
       "   release_year  release_month  release_day  \n",
       "0          2023              1           26  \n",
       "1          2023              3           24  \n",
       "2          2023              3           31  \n",
       "3          2023              3           28  \n",
       "4          2023              1           25  "
      ]
     },
     "execution_count": 11,
     "metadata": {},
     "output_type": "execute_result"
    }
   ],
   "source": [
    "data['rating'] = data['rating'].replace({'%': ''}, regex=True)\n",
    "data['rating'] = data['rating'].apply(pd.to_numeric, errors='ignore')\n",
    "data.head()"
   ]
  },
  {
   "cell_type": "code",
   "execution_count": 12,
   "metadata": {},
   "outputs": [
    {
     "data": {
      "text/html": [
       "<div>\n",
       "<style scoped>\n",
       "    .dataframe tbody tr th:only-of-type {\n",
       "        vertical-align: middle;\n",
       "    }\n",
       "\n",
       "    .dataframe tbody tr th {\n",
       "        vertical-align: top;\n",
       "    }\n",
       "\n",
       "    .dataframe thead th {\n",
       "        text-align: right;\n",
       "    }\n",
       "</style>\n",
       "<table border=\"1\" class=\"dataframe\">\n",
       "  <thead>\n",
       "    <tr style=\"text-align: right;\">\n",
       "      <th></th>\n",
       "      <th>peak_players</th>\n",
       "      <th>positive_reviews</th>\n",
       "      <th>negative_reviews</th>\n",
       "      <th>total_reviews</th>\n",
       "      <th>rating</th>\n",
       "      <th>release_year</th>\n",
       "      <th>release_month</th>\n",
       "      <th>release_day</th>\n",
       "    </tr>\n",
       "  </thead>\n",
       "  <tbody>\n",
       "    <tr>\n",
       "      <th>0</th>\n",
       "      <td>4529</td>\n",
       "      <td>19807</td>\n",
       "      <td>227</td>\n",
       "      <td>20034</td>\n",
       "      <td>96.39</td>\n",
       "      <td>2023</td>\n",
       "      <td>1</td>\n",
       "      <td>26</td>\n",
       "    </tr>\n",
       "    <tr>\n",
       "      <th>1</th>\n",
       "      <td>168191</td>\n",
       "      <td>61752</td>\n",
       "      <td>1616</td>\n",
       "      <td>63368</td>\n",
       "      <td>95.75</td>\n",
       "      <td>2023</td>\n",
       "      <td>3</td>\n",
       "      <td>24</td>\n",
       "    </tr>\n",
       "    <tr>\n",
       "      <th>2</th>\n",
       "      <td>15543</td>\n",
       "      <td>12643</td>\n",
       "      <td>213</td>\n",
       "      <td>12856</td>\n",
       "      <td>95.54</td>\n",
       "      <td>2023</td>\n",
       "      <td>3</td>\n",
       "      <td>31</td>\n",
       "    </tr>\n",
       "    <tr>\n",
       "      <th>3</th>\n",
       "      <td>1415</td>\n",
       "      <td>11717</td>\n",
       "      <td>209</td>\n",
       "      <td>11926</td>\n",
       "      <td>95.39</td>\n",
       "      <td>2023</td>\n",
       "      <td>3</td>\n",
       "      <td>28</td>\n",
       "    </tr>\n",
       "    <tr>\n",
       "      <th>4</th>\n",
       "      <td>6132</td>\n",
       "      <td>14152</td>\n",
       "      <td>324</td>\n",
       "      <td>14476</td>\n",
       "      <td>95.09</td>\n",
       "      <td>2023</td>\n",
       "      <td>1</td>\n",
       "      <td>25</td>\n",
       "    </tr>\n",
       "  </tbody>\n",
       "</table>\n",
       "</div>"
      ],
      "text/plain": [
       "   peak_players  positive_reviews  negative_reviews  total_reviews  rating  \\\n",
       "0          4529             19807               227          20034   96.39   \n",
       "1        168191             61752              1616          63368   95.75   \n",
       "2         15543             12643               213          12856   95.54   \n",
       "3          1415             11717               209          11926   95.39   \n",
       "4          6132             14152               324          14476   95.09   \n",
       "\n",
       "   release_year  release_month  release_day  \n",
       "0          2023              1           26  \n",
       "1          2023              3           24  \n",
       "2          2023              3           31  \n",
       "3          2023              3           28  \n",
       "4          2023              1           25  "
      ]
     },
     "execution_count": 12,
     "metadata": {},
     "output_type": "execute_result"
    }
   ],
   "source": [
    "data = data.apply(pd.to_numeric, errors='ignore')\n",
    "data.head()"
   ]
  },
  {
   "cell_type": "markdown",
   "metadata": {},
   "source": [
    "### Target Frequency"
   ]
  },
  {
   "cell_type": "code",
   "execution_count": 13,
   "metadata": {},
   "outputs": [
    {
     "data": {
      "image/png": "[encoded data removed]",
      "text/plain": [
       "<Figure size 600x400 with 1 Axes>"
      ]
     },
     "metadata": {},
     "output_type": "display_data"
    }
   ],
   "source": [
    "import matplotlib.pyplot as plt\n",
    "import seaborn as sns\n",
    "\n",
    "\n",
    "plt.figure(figsize=(6, 4))\n",
    "sns.histplot(data[\"rating\"], kde=True, bins=20)\n",
    "plt.xlabel(\"Rating\")\n",
    "plt.ylabel(\"Frequency\")\n",
    "plt.show()"
   ]
  },
  {
   "cell_type": "markdown",
   "metadata": {},
   "source": [
    "### Correlation matrix"
   ]
  },
  {
   "cell_type": "code",
   "execution_count": 14,
   "metadata": {},
   "outputs": [
    {
     "data": {
      "image/png": "[encoded data removed]",
      "text/plain": [
       "<Figure size 1000x1000 with 2 Axes>"
      ]
     },
     "metadata": {},
     "output_type": "display_data"
    }
   ],
   "source": [
    "correlation_matrix = data.corr()\n",
    "plt.figure(figsize=(10, 10))\n",
    "sns.heatmap(correlation_matrix, annot=True, cmap=\"coolwarm\")\n",
    "plt.title(\"Correlation matrix\")\n",
    "plt.show()"
   ]
  },
  {
   "cell_type": "code",
   "execution_count": 15,
   "metadata": {},
   "outputs": [
    {
     "data": {
      "image/png": "[encoded data removed]",
      "text/plain": [
       "<Figure size 1000x600 with 1 Axes>"
      ]
     },
     "metadata": {},
     "output_type": "display_data"
    }
   ],
   "source": [
    "from sklearn.feature_selection import mutual_info_regression\n",
    "\n",
    "x = data.drop('rating', axis=1)\n",
    "y = data['rating']\n",
    "# Вычисление важности признаков с использованием mutual information на ваших данных X_train и y_train \n",
    "mutual_info = mutual_info_regression(x, y, random_state=42)\n",
    "# Создание DataFrame для отображения результатов\n",
    "feature_importance_df = pd.DataFrame({'Feature': x.columns, 'Importance': mutual_info})\n",
    "# Сортировка по важности\n",
    "feature_importance_df = feature_importance_df.sort_values(by='Importance', ascending=True)\n",
    "# Визуализация важности признаков\n",
    "plt.figure(figsize=(10, 6))\n",
    "plt.barh(feature_importance_df['Feature'], feature_importance_df['Importance'])\n",
    "plt.xlabel('Mutual Information')\n",
    "plt.title('Feature Importance (Mutual Information)')\n",
    "plt.show()"
   ]
  },
  {
   "cell_type": "code",
   "execution_count": 16,
   "metadata": {},
   "outputs": [
    {
     "data": {
      "text/html": [
       "<div>\n",
       "<style scoped>\n",
       "    .dataframe tbody tr th:only-of-type {\n",
       "        vertical-align: middle;\n",
       "    }\n",
       "\n",
       "    .dataframe tbody tr th {\n",
       "        vertical-align: top;\n",
       "    }\n",
       "\n",
       "    .dataframe thead th {\n",
       "        text-align: right;\n",
       "    }\n",
       "</style>\n",
       "<table border=\"1\" class=\"dataframe\">\n",
       "  <thead>\n",
       "    <tr style=\"text-align: right;\">\n",
       "      <th></th>\n",
       "      <th>peak_players</th>\n",
       "      <th>positive_reviews</th>\n",
       "      <th>negative_reviews</th>\n",
       "      <th>rating</th>\n",
       "      <th>release_year</th>\n",
       "    </tr>\n",
       "  </thead>\n",
       "  <tbody>\n",
       "    <tr>\n",
       "      <th>0</th>\n",
       "      <td>4529</td>\n",
       "      <td>19807</td>\n",
       "      <td>227</td>\n",
       "      <td>96.39</td>\n",
       "      <td>2023</td>\n",
       "    </tr>\n",
       "    <tr>\n",
       "      <th>1</th>\n",
       "      <td>168191</td>\n",
       "      <td>61752</td>\n",
       "      <td>1616</td>\n",
       "      <td>95.75</td>\n",
       "      <td>2023</td>\n",
       "    </tr>\n",
       "    <tr>\n",
       "      <th>2</th>\n",
       "      <td>15543</td>\n",
       "      <td>12643</td>\n",
       "      <td>213</td>\n",
       "      <td>95.54</td>\n",
       "      <td>2023</td>\n",
       "    </tr>\n",
       "    <tr>\n",
       "      <th>3</th>\n",
       "      <td>1415</td>\n",
       "      <td>11717</td>\n",
       "      <td>209</td>\n",
       "      <td>95.39</td>\n",
       "      <td>2023</td>\n",
       "    </tr>\n",
       "    <tr>\n",
       "      <th>4</th>\n",
       "      <td>6132</td>\n",
       "      <td>14152</td>\n",
       "      <td>324</td>\n",
       "      <td>95.09</td>\n",
       "      <td>2023</td>\n",
       "    </tr>\n",
       "  </tbody>\n",
       "</table>\n",
       "</div>"
      ],
      "text/plain": [
       "   peak_players  positive_reviews  negative_reviews  rating  release_year\n",
       "0          4529             19807               227   96.39          2023\n",
       "1        168191             61752              1616   95.75          2023\n",
       "2         15543             12643               213   95.54          2023\n",
       "3          1415             11717               209   95.39          2023\n",
       "4          6132             14152               324   95.09          2023"
      ]
     },
     "execution_count": 16,
     "metadata": {},
     "output_type": "execute_result"
    }
   ],
   "source": [
    "data = data.drop(['release_month', 'release_day', 'total_reviews'], axis=1)\n",
    "data.head()"
   ]
  },
  {
   "cell_type": "markdown",
   "metadata": {},
   "source": [
    "### Outliers"
   ]
  },
  {
   "cell_type": "code",
   "execution_count": 17,
   "metadata": {},
   "outputs": [
    {
     "data": {
      "text/plain": [
       "<Axes: xlabel='release_year'>"
      ]
     },
     "execution_count": 17,
     "metadata": {},
     "output_type": "execute_result"
    },
    {
     "data": {
      "image/png": "[encoded data removed]",
      "text/plain": [
       "<Figure size 1200x1200 with 4 Axes>"
      ]
     },
     "metadata": {},
     "output_type": "display_data"
    }
   ],
   "source": [
    "plt.figure(figsize=(12, 12))\n",
    "\n",
    "plt.subplot(3, 2, 1)\n",
    "sns.boxplot(data=data, x='peak_players')\n",
    "\n",
    "plt.subplot(3, 2, 2)\n",
    "sns.boxplot(data=data, x='positive_reviews')\n",
    "\n",
    "plt.subplot(3, 2, 3)\n",
    "sns.boxplot(data=data, x='negative_reviews')\n",
    "\n",
    "plt.subplot(3, 2, 4)\n",
    "sns.boxplot(data=data, x='release_year')"
   ]
  },
  {
   "cell_type": "code",
   "execution_count": 18,
   "metadata": {},
   "outputs": [
    {
     "data": {
      "text/plain": [
       "<Axes: xlabel='negative_reviews'>"
      ]
     },
     "execution_count": 18,
     "metadata": {},
     "output_type": "execute_result"
    },
    {
     "data": {
      "image/png": "[encoded data removed]",
      "text/plain": [
       "<Figure size 400x300 with 1 Axes>"
      ]
     },
     "metadata": {},
     "output_type": "display_data"
    },
    {
     "data": {
      "image/png": "[encoded data removed]",
      "text/plain": [
       "<Figure size 400x300 with 1 Axes>"
      ]
     },
     "metadata": {},
     "output_type": "display_data"
    },
    {
     "data": {
      "image/png": "[encoded data removed]",
      "text/plain": [
       "<Figure size 400x300 with 1 Axes>"
      ]
     },
     "metadata": {},
     "output_type": "display_data"
    }
   ],
   "source": [
    "def handle_outliers(data, column):\n",
    "    q1 = data[column].quantile(0.25) # Определение 25% процентиль\n",
    "    q3 = data[column].quantile(0.75) # Определение 75% процентиль\n",
    "    iqr = q3 - q1 # Определение размера ящика\n",
    "    lower_whisker = q1 - 1.5 * iqr # Определение нижнего усика\n",
    "    upper_whisker = q3 + 1.5 * iqr # Определение верхнего усика\n",
    "    # Вариант 1: Замена выбросов значениями границ усов (если точки находятся за пределами усов, то тогда заменяем их на граничные значения усов)\n",
    "    data[column] = data[column].apply(lambda x: lower_whisker if x < lower_whisker else (upper_whisker if x > upper_whisker else x))\n",
    "\n",
    "handle_outliers(data, 'peak_players')\n",
    "handle_outliers(data, 'positive_reviews')\n",
    "handle_outliers(data, 'negative_reviews')\n",
    "\n",
    "plt.figure(figsize=(4, 3))\n",
    "sns.boxplot(data=data, x='peak_players')\n",
    "\n",
    "plt.figure(figsize=(4, 3))\n",
    "sns.boxplot(data=data, x='positive_reviews')\n",
    "\n",
    "plt.figure(figsize=(4, 3))\n",
    "sns.boxplot(data=data, x='negative_reviews')"
   ]
  },
  {
   "cell_type": "code",
   "execution_count": 19,
   "metadata": {},
   "outputs": [],
   "source": [
    "#sns.pairplot(data, kind=\"reg\") "
   ]
  },
  {
   "cell_type": "code",
   "execution_count": 20,
   "metadata": {},
   "outputs": [
    {
     "data": {
      "text/html": [
       "<div>\n",
       "<style scoped>\n",
       "    .dataframe tbody tr th:only-of-type {\n",
       "        vertical-align: middle;\n",
       "    }\n",
       "\n",
       "    .dataframe tbody tr th {\n",
       "        vertical-align: top;\n",
       "    }\n",
       "\n",
       "    .dataframe thead th {\n",
       "        text-align: right;\n",
       "    }\n",
       "</style>\n",
       "<table border=\"1\" class=\"dataframe\">\n",
       "  <thead>\n",
       "    <tr style=\"text-align: right;\">\n",
       "      <th></th>\n",
       "      <th>peak_players</th>\n",
       "      <th>positive_reviews</th>\n",
       "      <th>negative_reviews</th>\n",
       "      <th>rating</th>\n",
       "      <th>release_year</th>\n",
       "    </tr>\n",
       "  </thead>\n",
       "  <tbody>\n",
       "    <tr>\n",
       "      <th>0</th>\n",
       "      <td>63.0</td>\n",
       "      <td>162.5</td>\n",
       "      <td>27.5</td>\n",
       "      <td>96.39</td>\n",
       "      <td>2023</td>\n",
       "    </tr>\n",
       "    <tr>\n",
       "      <th>1</th>\n",
       "      <td>63.0</td>\n",
       "      <td>162.5</td>\n",
       "      <td>27.5</td>\n",
       "      <td>95.75</td>\n",
       "      <td>2023</td>\n",
       "    </tr>\n",
       "    <tr>\n",
       "      <th>2</th>\n",
       "      <td>63.0</td>\n",
       "      <td>162.5</td>\n",
       "      <td>27.5</td>\n",
       "      <td>95.54</td>\n",
       "      <td>2023</td>\n",
       "    </tr>\n",
       "    <tr>\n",
       "      <th>3</th>\n",
       "      <td>63.0</td>\n",
       "      <td>162.5</td>\n",
       "      <td>27.5</td>\n",
       "      <td>95.39</td>\n",
       "      <td>2023</td>\n",
       "    </tr>\n",
       "    <tr>\n",
       "      <th>4</th>\n",
       "      <td>63.0</td>\n",
       "      <td>162.5</td>\n",
       "      <td>27.5</td>\n",
       "      <td>95.09</td>\n",
       "      <td>2023</td>\n",
       "    </tr>\n",
       "  </tbody>\n",
       "</table>\n",
       "</div>"
      ],
      "text/plain": [
       "   peak_players  positive_reviews  negative_reviews  rating  release_year\n",
       "0          63.0             162.5              27.5   96.39          2023\n",
       "1          63.0             162.5              27.5   95.75          2023\n",
       "2          63.0             162.5              27.5   95.54          2023\n",
       "3          63.0             162.5              27.5   95.39          2023\n",
       "4          63.0             162.5              27.5   95.09          2023"
      ]
     },
     "execution_count": 20,
     "metadata": {},
     "output_type": "execute_result"
    }
   ],
   "source": [
    "data.head()"
   ]
  },
  {
   "cell_type": "code",
   "execution_count": 21,
   "metadata": {},
   "outputs": [],
   "source": [
    "x = data.drop('rating', axis=1)\n",
    "y = data['rating']"
   ]
  },
  {
   "cell_type": "code",
   "execution_count": 22,
   "metadata": {},
   "outputs": [
    {
     "data": {
      "text/plain": [
       "array([[ 1.89712975,  1.96245995,  1.96003843,  1.70205076],\n",
       "       [ 1.89712975,  1.96245995,  1.96003843,  1.70205076],\n",
       "       [ 1.89712975,  1.96245995,  1.96003843,  1.70205076],\n",
       "       ...,\n",
       "       [-0.54332978, -0.14622184,  0.32231822, -1.46367185],\n",
       "       [-0.15799407,  1.17488   ,  1.96003843, -1.46367185],\n",
       "       [ 1.89712975,  1.96245995,  1.96003843, -1.46367185]])"
      ]
     },
     "execution_count": 22,
     "metadata": {},
     "output_type": "execute_result"
    }
   ],
   "source": [
    "from sklearn.preprocessing import StandardScaler\n",
    "\n",
    "scaler_linear = StandardScaler()\n",
    "\n",
    "x = data.drop('rating', axis=1)\n",
    "y = data['rating']\n",
    "# Compute the mean and standard deviation of the training set then transform it\n",
    "x = scaler_linear.fit_transform(x)\n",
    "x"
   ]
  },
  {
   "cell_type": "markdown",
   "metadata": {},
   "source": [
    "### Split"
   ]
  },
  {
   "cell_type": "code",
   "execution_count": 23,
   "metadata": {},
   "outputs": [],
   "source": [
    "from sklearn.model_selection import train_test_split\n",
    "\n",
    "x_train, x_test, y_train, y_test = train_test_split(x, y, test_size= 0.25, random_state=50)"
   ]
  },
  {
   "cell_type": "code",
   "execution_count": 24,
   "metadata": {},
   "outputs": [],
   "source": [
    "result = pd.DataFrame({'Model':[], 'MSE':[], 'MAE':[], 'R2':[]})"
   ]
  },
  {
   "cell_type": "code",
   "execution_count": 25,
   "metadata": {},
   "outputs": [],
   "source": [
    "def test_model(model, x_train, y_train, x_test, y_test):\n",
    "    # Train the model\n",
    "    model.fit(x_train, y_train)\n",
    "\n",
    "    # Feed the scaled training set and get the predictions\n",
    "    y_hat = model.predict(x_test)\n",
    "\n",
    "    test_mse = mean_squared_error(y_test, y_hat)\n",
    "    test_mae = mean_absolute_error(y_test, y_hat)\n",
    "    test_r2 = r2_score(y_test,y_hat)\n",
    "    return test_mse, test_mae, test_r2"
   ]
  },
  {
   "cell_type": "code",
   "execution_count": 26,
   "metadata": {},
   "outputs": [
    {
     "name": "stderr",
     "output_type": "stream",
     "text": [
      "  0%|          | 0/7 [00:00<?, ?it/s]"
     ]
    },
    {
     "name": "stderr",
     "output_type": "stream",
     "text": [
      " 57%|█████▋    | 4/7 [00:17<00:16,  5.58s/it]c:\\Users\\RIEKI\\Documents\\VSU\\Otirba\\PythonTasks\\ML_DNN\\.venv\\lib\\site-packages\\sklearn\\neural_network\\_multilayer_perceptron.py:691: ConvergenceWarning: Stochastic Optimizer: Maximum iterations (200) reached and the optimization hasn't converged yet.\n",
      "  warnings.warn(\n",
      "100%|██████████| 7/7 [00:27<00:00,  3.88s/it]\n"
     ]
    }
   ],
   "source": [
    "from sklearn.metrics import mean_squared_error, mean_absolute_error, r2_score\n",
    "from sklearn.linear_model import LinearRegression\n",
    "from sklearn.tree import DecisionTreeRegressor\n",
    "from sklearn.ensemble import RandomForestRegressor\n",
    "from sklearn.svm import SVR\n",
    "from sklearn.neighbors import KNeighborsRegressor\n",
    "from sklearn.neural_network import MLPRegressor\n",
    "from sklearn.ensemble import GradientBoostingRegressor\n",
    "from tqdm import tqdm\n",
    "\n",
    "models = []\n",
    "linear = LinearRegression()\n",
    "decision_tree = DecisionTreeRegressor()\n",
    "rendom_forest = RandomForestRegressor()\n",
    "svr = SVR()\n",
    "k_neighbors = KNeighborsRegressor()\n",
    "mlp = MLPRegressor()\n",
    "gradient_boosting = GradientBoostingRegressor()\n",
    "models.append(linear)\n",
    "models.append(decision_tree)\n",
    "models.append(rendom_forest)\n",
    "models.append(svr)\n",
    "models.append(k_neighbors)\n",
    "models.append(mlp)\n",
    "models.append(gradient_boosting)\n",
    "\n",
    "for model in tqdm(models):\n",
    "    test_mse, test_mae, test_r2 = test_model(model, x_train, y_train, x_test, y_test)\n",
    "    result.loc[len(result.index)] = [str(model), test_mse, test_mae, test_r2] "
   ]
  },
  {
   "cell_type": "code",
   "execution_count": 27,
   "metadata": {},
   "outputs": [
    {
     "data": {
      "text/html": [
       "<div>\n",
       "<style scoped>\n",
       "    .dataframe tbody tr th:only-of-type {\n",
       "        vertical-align: middle;\n",
       "    }\n",
       "\n",
       "    .dataframe tbody tr th {\n",
       "        vertical-align: top;\n",
       "    }\n",
       "\n",
       "    .dataframe thead th {\n",
       "        text-align: right;\n",
       "    }\n",
       "</style>\n",
       "<table border=\"1\" class=\"dataframe\">\n",
       "  <thead>\n",
       "    <tr style=\"text-align: right;\">\n",
       "      <th></th>\n",
       "      <th>Model</th>\n",
       "      <th>MSE</th>\n",
       "      <th>MAE</th>\n",
       "      <th>R2</th>\n",
       "    </tr>\n",
       "  </thead>\n",
       "  <tbody>\n",
       "    <tr>\n",
       "      <th>6</th>\n",
       "      <td>GradientBoostingRegressor()</td>\n",
       "      <td>12.832356</td>\n",
       "      <td>1.399812</td>\n",
       "      <td>0.918612</td>\n",
       "    </tr>\n",
       "    <tr>\n",
       "      <th>2</th>\n",
       "      <td>RandomForestRegressor()</td>\n",
       "      <td>13.097057</td>\n",
       "      <td>1.156649</td>\n",
       "      <td>0.916933</td>\n",
       "    </tr>\n",
       "    <tr>\n",
       "      <th>1</th>\n",
       "      <td>DecisionTreeRegressor()</td>\n",
       "      <td>14.118965</td>\n",
       "      <td>1.237534</td>\n",
       "      <td>0.910451</td>\n",
       "    </tr>\n",
       "    <tr>\n",
       "      <th>4</th>\n",
       "      <td>KNeighborsRegressor()</td>\n",
       "      <td>15.075474</td>\n",
       "      <td>1.608857</td>\n",
       "      <td>0.904385</td>\n",
       "    </tr>\n",
       "    <tr>\n",
       "      <th>5</th>\n",
       "      <td>MLPRegressor()</td>\n",
       "      <td>15.487219</td>\n",
       "      <td>2.012969</td>\n",
       "      <td>0.901773</td>\n",
       "    </tr>\n",
       "    <tr>\n",
       "      <th>3</th>\n",
       "      <td>SVR()</td>\n",
       "      <td>35.260704</td>\n",
       "      <td>3.644790</td>\n",
       "      <td>0.776361</td>\n",
       "    </tr>\n",
       "    <tr>\n",
       "      <th>0</th>\n",
       "      <td>LinearRegression()</td>\n",
       "      <td>70.901846</td>\n",
       "      <td>6.450169</td>\n",
       "      <td>0.550310</td>\n",
       "    </tr>\n",
       "  </tbody>\n",
       "</table>\n",
       "</div>"
      ],
      "text/plain": [
       "                         Model        MSE       MAE        R2\n",
       "6  GradientBoostingRegressor()  12.832356  1.399812  0.918612\n",
       "2      RandomForestRegressor()  13.097057  1.156649  0.916933\n",
       "1      DecisionTreeRegressor()  14.118965  1.237534  0.910451\n",
       "4        KNeighborsRegressor()  15.075474  1.608857  0.904385\n",
       "5               MLPRegressor()  15.487219  2.012969  0.901773\n",
       "3                        SVR()  35.260704  3.644790  0.776361\n",
       "0           LinearRegression()  70.901846  6.450169  0.550310"
      ]
     },
     "execution_count": 27,
     "metadata": {},
     "output_type": "execute_result"
    }
   ],
   "source": [
    "result.sort_values(by=['MSE', 'MAE'])"
   ]
  },
  {
   "cell_type": "code",
   "execution_count": 28,
   "metadata": {},
   "outputs": [],
   "source": [
    "import torch\n",
    "import torch.nn as nn\n",
    "from torch.optim import Adam"
   ]
  },
  {
   "cell_type": "code",
   "execution_count": 29,
   "metadata": {},
   "outputs": [],
   "source": [
    "device = torch.device(\"cuda\" if torch.cuda.is_available() else \"cpu\")"
   ]
  },
  {
   "cell_type": "code",
   "execution_count": 30,
   "metadata": {},
   "outputs": [],
   "source": [
    "class NN(nn.Module):\n",
    "    def __init__(self, input):\n",
    "        super(NN, self).__init__()\n",
    "        self.fc1 = nn.Sequential(nn.Linear(input, round(input)),\n",
    "                                 nn.LeakyReLU(),\n",
    "                                 nn.Linear(round(input), round(input / 2)),\n",
    "                                 nn.LeakyReLU(),\n",
    "                                 nn.Linear(round(input / 2), 1))\n",
    "\n",
    "    def forward(self, x):\n",
    "        x = self.fc1(x)\n",
    "        return x"
   ]
  },
  {
   "cell_type": "code",
   "execution_count": 31,
   "metadata": {},
   "outputs": [
    {
     "data": {
      "text/plain": [
       "NN(\n",
       "  (fc1): Sequential(\n",
       "    (0): Linear(in_features=4, out_features=4, bias=True)\n",
       "    (1): LeakyReLU(negative_slope=0.01)\n",
       "    (2): Linear(in_features=4, out_features=2, bias=True)\n",
       "    (3): LeakyReLU(negative_slope=0.01)\n",
       "    (4): Linear(in_features=2, out_features=1, bias=True)\n",
       "  )\n",
       ")"
      ]
     },
     "execution_count": 31,
     "metadata": {},
     "output_type": "execute_result"
    }
   ],
   "source": [
    "model_nn = NN(len(x_train[0]))\n",
    "model_nn.to(device)"
   ]
  },
  {
   "cell_type": "code",
   "execution_count": 32,
   "metadata": {},
   "outputs": [],
   "source": [
    "optimizer = Adam(params=model_nn.parameters(), lr=1e-3)\n",
    "loss_func = nn.MSELoss()"
   ]
  },
  {
   "cell_type": "code",
   "execution_count": 33,
   "metadata": {},
   "outputs": [],
   "source": [
    "x_train = torch.tensor(x_train).float().to(device)\n",
    "x_test = torch.tensor(x_test).float().to(device)\n",
    "y_train = torch.tensor(y_train.to_numpy()).float().to(device)\n",
    "y_test = torch.tensor(y_test.to_numpy()).float().to(device)"
   ]
  },
  {
   "cell_type": "code",
   "execution_count": 34,
   "metadata": {},
   "outputs": [
    {
     "name": "stderr",
     "output_type": "stream",
     "text": [
      "Model training:   0%|          | 0/2000 [00:00<?, ?it/s]c:\\Users\\RIEKI\\Documents\\VSU\\Otirba\\PythonTasks\\ML_DNN\\.venv\\lib\\site-packages\\torch\\nn\\modules\\loss.py:535: UserWarning: Using a target size (torch.Size([15000])) that is different to the input size (torch.Size([15000, 1])). This will likely lead to incorrect results due to broadcasting. Please ensure they have the same size.\n",
      "  return F.mse_loss(input, target, reduction=self.reduction)\n",
      "Model training: 100%|██████████| 2000/2000 [00:28<00:00, 69.16it/s, Current error = 896.1397705078125] \n"
     ]
    }
   ],
   "source": [
    "num_iter = 2000\n",
    "losses = []\n",
    "train_loop = tqdm(range(num_iter))\n",
    "train_loop.set_description_str(\"Model training\")\n",
    "for i in train_loop:\n",
    "    outputs = model_nn(x_train)\n",
    "    loss = loss_func(outputs, y_train)\n",
    "    losses.append(loss.item())\n",
    "    train_loop.set_postfix_str(f\"Current error = {loss.item()}\")\n",
    "    loss.backward()\n",
    "    optimizer.step()\n",
    "    optimizer.zero_grad()"
   ]
  },
  {
   "cell_type": "code",
   "execution_count": 35,
   "metadata": {},
   "outputs": [
    {
     "data": {
      "text/plain": [
       "[<matplotlib.lines.Line2D at 0x22b0e092ec0>]"
      ]
     },
     "execution_count": 35,
     "metadata": {},
     "output_type": "execute_result"
    },
    {
     "data": {
      "image/png": "[encoded data removed]",
      "text/plain": [
       "<Figure size 640x480 with 1 Axes>"
      ]
     },
     "metadata": {},
     "output_type": "display_data"
    }
   ],
   "source": [
    "plt.plot(losses)"
   ]
  },
  {
   "cell_type": "code",
   "execution_count": 36,
   "metadata": {},
   "outputs": [],
   "source": [
    "df = data.copy()"
   ]
  },
  {
   "cell_type": "code",
   "execution_count": 54,
   "metadata": {},
   "outputs": [
    {
     "name": "stdout",
     "output_type": "stream",
     "text": [
      "peak_players 1.897129774093628\n",
      "positive_reviews 1.962459921836853\n",
      "negative_reviews 1.960038423538208\n",
      "\n",
      "Real rating = 92.33000183105469\n",
      "Predicted rating = 13.848416328430176\n"
     ]
    }
   ],
   "source": [
    "import random \n",
    "j = random.randint(0, len(y_test))\n",
    "for i in range(3):\n",
    "    print(df.columns.drop(['rating'])[i], x_test[j][i].item())\n",
    "\n",
    "print(f\"\\nReal rating = {y_test[j].item()}\")\n",
    "print(f\"Predicted rating = {model_nn(x_test[j]).item()}\")"
   ]
  },
  {
   "cell_type": "code",
   "execution_count": 55,
   "metadata": {},
   "outputs": [
    {
     "name": "stdout",
     "output_type": "stream",
     "text": [
      "mse =\t1114.473388671875\n",
      "mae =\t23.06476402282715\n"
     ]
    }
   ],
   "source": [
    "results = model_nn(x_test).cpu().detach().numpy()\n",
    "y_real = y_test.cpu().detach().numpy()\n",
    "mse = mean_squared_error(y_real, results)\n",
    "mae = mean_absolute_error(y_real, results)\n",
    "\n",
    "print(f\"mse =\\t{mse}\\nmae =\\t{mae}\")"
   ]
  }
 ],
 "metadata": {
  "kernelspec": {
   "display_name": ".venv",
   "language": "python",
   "name": "python3"
  },
  "language_info": {
   "codemirror_mode": {
    "name": "ipython",
    "version": 3
   },
   "file_extension": ".py",
   "mimetype": "text/x-python",
   "name": "python",
   "nbconvert_exporter": "python",
   "pygments_lexer": "ipython3",
   "version": "3.10.11"
  }
 },
 "nbformat": 4,
 "nbformat_minor": 2
}
